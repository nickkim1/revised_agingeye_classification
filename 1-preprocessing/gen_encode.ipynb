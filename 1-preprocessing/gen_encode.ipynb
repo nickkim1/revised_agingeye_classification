{
 "cells": [
  {
   "cell_type": "markdown",
   "metadata": {},
   "source": [
    "### General\n",
    "##### General Pipeline\n",
    "1) Wget the right gtf and fasta ref genome files for the Drosophila (or whatever organism) genome into appropriate directories\n",
    "\n",
    "2) Then parse GTF file for start/end coordinates for each gene. ATAC-seq data: split this interval into non-overlapping windows of x bp and assign peak counts. RNA-seq data: find TSS of each gene and do +/- specified x bases for each one. Then output BED file(s) delimited by start, stop coords you just made + the label. \n",
    "\n",
    "3) Next, run getfasta on the BED file(s) you just made. This will output a bunch of fasta files with just the gene_ids + actual sequences for each window interval you defined. \n",
    "\n",
    "4) Finally, run a script to concatenate together the outputted fasta files from getfasta and your bed files. The outputted CSV file will have the sequences themselves (rather than just start/stop coords) for each window and their corresponding label.\n"
   ]
  },
  {
   "cell_type": "markdown",
   "metadata": {},
   "source": [
    "### Preprocess RNA-seq data \n",
    "\n",
    "Run scripts to preprocess RNA-seq data (in fasta file format) into BED files with sequences of +/- x bp windows up and downstream of the TSS respectively (2x bp overall). Discretize counts, run getfasta to get corresponding sequences, and then merge into final CSV. "
   ]
  },
  {
   "cell_type": "code",
   "execution_count": null,
   "metadata": {
    "vscode": {
     "languageId": "shellscript"
    }
   },
   "outputs": [],
   "source": [
    "!python3 python/rna_bed.py -gtf_filepath '../0-data/0-refs/agingeye/dmel-all-r6.55.gtf' -counts_filepath '../0-data/1-experimental/counts/agingeye/counts.xlsx' -sequence_length 600"
   ]
  },
  {
   "cell_type": "code",
   "execution_count": 10,
   "metadata": {
    "vscode": {
     "languageId": "shellscript"
    }
   },
   "outputs": [
    {
     "name": "stdout",
     "output_type": "stream",
     "text": [
      "Intel MKL WARNING: Support of Intel(R) Streaming SIMD Extensions 4.2 (Intel(R) SSE4.2) enabled only processors has been deprecated. Intel oneAPI Math Kernel Library 2025.0 will require Intel(R) Advanced Vector Extensions (Intel(R) AVX) instructions.\n",
      "Intel MKL WARNING: Support of Intel(R) Streaming SIMD Extensions 4.2 (Intel(R) SSE4.2) enabled only processors has been deprecated. Intel oneAPI Math Kernel Library 2025.0 will require Intel(R) Advanced Vector Extensions (Intel(R) AVX) instructions.\n",
      "^C\n",
      "Traceback (most recent call last):\n",
      "  File \"/Users/nicolaskim/Desktop/research/singh_lab/basset_basenji/revised_agingeye_classification/1-preprocessing/python/rna_bed_default.py\", line 18, in <module>\n",
      "    gr = pr.read_gtf(gtf_filepath)\n",
      "  File \"/Users/nicolaskim/anaconda3/envs/dlenv/lib/python3.10/site-packages/pyranges/readers.py\", line 321, in read_gtf\n",
      "    gr = read_gtf_full(f, as_df, nrows, _skiprows, duplicate_attr, ignore_bad=ignore_bad)\n",
      "  File \"/Users/nicolaskim/anaconda3/envs/dlenv/lib/python3.10/site-packages/pyranges/readers.py\", line 356, in read_gtf_full\n",
      "    extra = _to_rows(df.Attribute, ignore_bad=ignore_bad)\n",
      "  File \"/Users/nicolaskim/anaconda3/envs/dlenv/lib/python3.10/site-packages/pyranges/readers.py\", line 397, in to_rows\n",
      "    return pd.DataFrame.from_records(rowdicts)\n",
      "  File \"/Users/nicolaskim/anaconda3/envs/dlenv/lib/python3.10/site-packages/pandas/core/frame.py\", line 2345, in from_records\n",
      "    arrays, arr_columns = to_arrays(data, columns)\n",
      "  File \"/Users/nicolaskim/anaconda3/envs/dlenv/lib/python3.10/site-packages/pandas/core/internals/construction.py\", line 837, in to_arrays\n",
      "    arr, columns = _list_of_dict_to_arrays(data, columns)\n",
      "  File \"/Users/nicolaskim/anaconda3/envs/dlenv/lib/python3.10/site-packages/pandas/core/internals/construction.py\", line 917, in _list_of_dict_to_arrays\n",
      "    pre_cols = lib.fast_unique_multiple_list_gen(gen, sort=sort)\n",
      "  File \"lib.pyx\", line 393, in pandas._libs.lib.fast_unique_multiple_list_gen\n",
      "  File \"/Users/nicolaskim/anaconda3/envs/dlenv/lib/python3.10/site-packages/pandas/core/internals/construction.py\", line 915, in <genexpr>\n",
      "    gen = (list(x.keys()) for x in data)\n",
      "KeyboardInterrupt\n"
     ]
    }
   ],
   "source": [
    "!python3 python/rna_bed_default.py -gtf_filepath '../0-data/0-refs/agingeye/dmel-all-r6.55.gtf' -counts_filepath '../0-data/1-experimental/counts/agingeye/cts.txt' -sequence_length 1000"
   ]
  },
  {
   "cell_type": "markdown",
   "metadata": {},
   "source": [
    "This code runs getFasta on the files I just generated into bed format in the appropriate directory, using the appropriate reference genome (r6.55). "
   ]
  },
  {
   "cell_type": "code",
   "execution_count": 10,
   "metadata": {
    "vscode": {
     "languageId": "shellscript"
    }
   },
   "outputs": [
    {
     "name": "stdout",
     "output_type": "stream",
     "text": [
      "Feature (Y:3666428-3667428) beyond the length of Y size (3667352 bp).  Skipping.\n"
     ]
    }
   ],
   "source": [
    "!./bash/rna_getfasta.sh '../0-data/0-refs/agingeye/dmel-all-chromosome-r6.55.fasta'"
   ]
  },
  {
   "cell_type": "markdown",
   "metadata": {},
   "source": [
    "This code converts the outputted fasta files from the getfasta script above into CSV format for processing. Displays first three rows of output file. Some filepaths I used for the bed files are the following: '../0-data/1-experimental/bed/agingeye/cts_bed.bed', '../0-data/1-experimental/bed/agingeye/D60vsD10.bed'. Some filepaths I used for the getfasta output are the following: '../0-data/2-final/0-getfasta/agingeye/cts_bed.out.fa', '../0-data/2-final/0-getfasta/agingeye/D60vsD10.out.fa'"
   ]
  },
  {
   "cell_type": "code",
   "execution_count": 11,
   "metadata": {
    "vscode": {
     "languageId": "shellscript"
    }
   },
   "outputs": [
    {
     "name": "stdout",
     "output_type": "stream",
     "text": [
      "Intel MKL WARNING: Support of Intel(R) Streaming SIMD Extensions 4.2 (Intel(R) SSE4.2) enabled only processors has been deprecated. Intel oneAPI Math Kernel Library 2025.0 will require Intel(R) Advanced Vector Extensions (Intel(R) AVX) instructions.\n",
      "Intel MKL WARNING: Support of Intel(R) Streaming SIMD Extensions 4.2 (Intel(R) SSE4.2) enabled only processors has been deprecated. Intel oneAPI Math Kernel Library 2025.0 will require Intel(R) Advanced Vector Extensions (Intel(R) AVX) instructions.\n",
      "First three rows:                                              sequence  count\n",
      "0  AGTAGCAGAAACGGTTCTGCCCGCTTAACCTCTACAGAGTGTCTAA...      1\n",
      "1  TAACGAATTTGTTGTTGCCTATAACAAATATAGTTAAATAAATGTT...      1\n",
      "2  TGTAACTGTTGACGTATCCGTACTTTACAGTACTTTATCTGTATAC...      1\n",
      "Number of ones in whole dataset 20088\n",
      "umber of zeros in whole dataset 10499\n",
      "Number of ones in train dataset 16115\n",
      "Number of zeros in train dataset 8354\n",
      "Number of ones in test dataset 3973\n",
      "Number of zeros in test dataset 2145\n"
     ]
    }
   ],
   "source": [
    "!python3 python/rna_getfasta.py -input_bed_file '../0-data/1-experimental/bed/agingeye/cts_bed.bed' -input_fasta_file '../0-data/2-final/0-getfasta/agingeye/cts_bed.out.fa' -output_csv_file '../0-data/2-final/1-finalcsv/agingeye/' -output_csv_file_identifier 'cts_bed'"
   ]
  },
  {
   "cell_type": "markdown",
   "metadata": {},
   "source": [
    "### Preprocess ATAC-seq data\n",
    "Run scripts to preprocess ATAC-seq data into non-overlapping windows of 600 bp each. Run bedtools getfasta to get the actual corresponding sequence for each window, using the proper reference genome. Note that the testing directory used DNAase-seq data, not ATAC-seq data, and used the hg19 grch37 reference genome (DNA) instead of what was needed for this project specifically. "
   ]
  },
  {
   "cell_type": "code",
   "execution_count": null,
   "metadata": {
    "vscode": {
     "languageId": "shellscript"
    }
   },
   "outputs": [],
   "source": [
    "\n",
    "!python3 python/atac_bed.py -input_bed_directory '../0-data/1-experimental/bed/encode/raw/' -output_bed_directory '../0-data/1-experimental/bed/encode/binned/' -max_overlap 200 -sequence_length 600"
   ]
  },
  {
   "cell_type": "markdown",
   "metadata": {},
   "source": [
    "Outputted files will be not in fasta format, but instead in tab delimited format since I wanted an easier way of labeling the sequences with appropriate counts."
   ]
  },
  {
   "cell_type": "code",
   "execution_count": 23,
   "metadata": {
    "vscode": {
     "languageId": "shellscript"
    }
   },
   "outputs": [],
   "source": [
    "!./bash/atac_getfasta.sh '../0-data/0-refs/encode/hg19.fa'"
   ]
  },
  {
   "cell_type": "markdown",
   "metadata": {},
   "source": [
    "Now process the outputted fasta file into CSV file format"
   ]
  },
  {
   "cell_type": "code",
   "execution_count": null,
   "metadata": {
    "vscode": {
     "languageId": "shellscript"
    }
   },
   "outputs": [],
   "source": [
    "!python3 python/atac_getfasta.py -input_bed_file '../0-data/1-experimental/bed/encode/binned/E003.bed' -input_fasta_file '../0-data/2-final/0-getfasta/encode/E003.out.fa' -output_csv_file '../0-data/2-final/1-finalcsv/E003'"
   ]
  },
  {
   "cell_type": "markdown",
   "metadata": {},
   "source": [
    "## Run Model \n",
    "\n",
    "Set the configs, and then run the configuration script to set the appropiate variables. Subsequently load in the appropriate CSV data and run the model proper. The below are some of the relative filepaths to be used for training data. \n",
    "\n",
    "#### (D60 vs. D10)\n",
    "- '../0-data/2-final/1-finalcsv/agingeye/D60vsD10_train.csv'\n",
    "- '../0-data/2-final/1-finalcsv/agingeye/D60vsD10_test.csv'\n",
    "\n",
    "#### (Toy paths)\n",
    "- '../0-data/2-final/1-finalcsv/toy/toy_600bp_seq_1000_sample.csv' (log normalized counts, discretized based on LFC values)\n",
    "- '../0-data/2-final/1-finalcsv/toy/toy_100bp_seq_1000_sample.csv' (raw counts, binarized based on median exp value)\n",
    "\n",
    "\n",
    "#### (Median)\n",
    "- '../0-data/2-final/1-finalcsv/agingeye/cts_bed_train.csv'\n",
    "- '../0-data/2-final/1-finalcsv/agingeye/cts_bed_test.csv'"
   ]
  },
  {
   "cell_type": "code",
   "execution_count": 15,
   "metadata": {
    "vscode": {
     "languageId": "shellscript"
    }
   },
   "outputs": [
    {
     "name": "stdout",
     "output_type": "stream",
     "text": [
      "Intel MKL WARNING: Support of Intel(R) Streaming SIMD Extensions 4.2 (Intel(R) SSE4.2) enabled only processors has been deprecated. Intel oneAPI Math Kernel Library 2025.0 will require Intel(R) Advanced Vector Extensions (Intel(R) AVX) instructions.\n",
      "Intel MKL WARNING: Support of Intel(R) Streaming SIMD Extensions 4.2 (Intel(R) SSE4.2) enabled only processors has been deprecated. Intel oneAPI Math Kernel Library 2025.0 will require Intel(R) Advanced Vector Extensions (Intel(R) AVX) instructions.\n"
     ]
    }
   ],
   "source": [
    "!python3 ../2-model/config.py"
   ]
  },
  {
   "cell_type": "code",
   "execution_count": 17,
   "metadata": {
    "vscode": {
     "languageId": "shellscript"
    }
   },
   "outputs": [
    {
     "name": "stdout",
     "output_type": "stream",
     "text": [
      "Intel MKL WARNING: Support of Intel(R) Streaming SIMD Extensions 4.2 (Intel(R) SSE4.2) enabled only processors has been deprecated. Intel oneAPI Math Kernel Library 2025.0 will require Intel(R) Advanced Vector Extensions (Intel(R) AVX) instructions.\n",
      "Intel MKL WARNING: Support of Intel(R) Streaming SIMD Extensions 4.2 (Intel(R) SSE4.2) enabled only processors has been deprecated. Intel oneAPI Math Kernel Library 2025.0 will require Intel(R) Advanced Vector Extensions (Intel(R) AVX) instructions.\n",
      "0. Using mps device!\n",
      "Epoch [1/50], Step [96/96], Loss: 0.5998\n",
      "Training Accuracy:  0.6472827810794115\n",
      "Epoch [2/50], Step [96/96], Loss: 0.6394\n",
      "Training Accuracy:  0.6584417670965195\n",
      "Epoch [3/50], Step [96/96], Loss: 0.5953\n",
      "Training Accuracy:  0.6222605661799511\n",
      "Epoch [4/50], Step [96/96], Loss: 0.4902\n",
      "Training Accuracy:  0.575181016077598\n",
      "Epoch [5/50], Step [96/96], Loss: 0.4361\n",
      "Training Accuracy:  0.5766282640397549\n",
      "Epoch [6/50], Step [96/96], Loss: 0.3856\n",
      "Training Accuracy:  0.584279103204608\n",
      "Epoch [7/50], Step [96/96], Loss: 0.3220\n",
      "Training Accuracy:  0.5903529264032841\n",
      "Epoch [8/50], Step [96/96], Loss: 0.3696\n",
      "Training Accuracy:  0.598216013982892\n",
      "Epoch [9/50], Step [96/96], Loss: 0.3998\n",
      "Training Accuracy:  0.6027095212290684\n",
      "Epoch [10/50], Step [96/96], Loss: 0.2609\n",
      "Training Accuracy:  0.6061142931381861\n",
      "Epoch [11/50], Step [96/96], Loss: 0.2998\n",
      "Training Accuracy:  0.611887888982892\n",
      "Epoch [12/50], Step [96/96], Loss: 0.2781\n",
      "Training Accuracy:  0.6117702176173528\n",
      "Epoch [13/50], Step [96/96], Loss: 0.2256\n",
      "Training Accuracy:  0.6166156393786272\n",
      "Epoch [14/50], Step [96/96], Loss: 0.2184\n",
      "Training Accuracy:  0.6190603443731865\n",
      "Epoch [15/50], Step [96/96], Loss: 0.2205\n",
      "Training Accuracy:  0.6205174904316664\n",
      "Epoch [16/50], Step [96/96], Loss: 0.2437\n",
      "Training Accuracy:  0.6232030373066664\n",
      "Epoch [17/50], Step [96/96], Loss: 0.2291\n",
      "Training Accuracy:  0.6256191494564215\n",
      "Epoch [18/50], Step [96/96], Loss: 0.2248\n",
      "Training Accuracy:  0.6283420870701472\n",
      "Epoch [19/50], Step [96/96], Loss: 0.2645\n",
      "Training Accuracy:  0.626783766473333\n",
      "Epoch [20/50], Step [96/96], Loss: 0.1613\n",
      "Training Accuracy:  0.6312871711949507\n",
      "Epoch [21/50], Step [96/96], Loss: 0.1076\n",
      "Training Accuracy:  0.6327773084243139\n",
      "Epoch [22/50], Step [96/96], Loss: 0.1214\n",
      "Training Accuracy:  0.6342762441684803\n",
      "Epoch [23/50], Step [96/96], Loss: 0.1109\n",
      "Training Accuracy:  0.6353231891989708\n",
      "Epoch [24/50], Step [96/96], Loss: 0.1655\n",
      "Training Accuracy:  0.6350339595228434\n",
      "Epoch [25/50], Step [96/96], Loss: 0.1313\n",
      "Training Accuracy:  0.6374775655567646\n",
      "Epoch [26/50], Step [96/96], Loss: 0.0620\n",
      "Training Accuracy:  0.6385695996383826\n",
      "Epoch [27/50], Step [96/96], Loss: 0.1867\n",
      "Training Accuracy:  0.6386982686817646\n",
      "Epoch [28/50], Step [96/96], Loss: 0.0709\n",
      "Training Accuracy:  0.6416851418713728\n",
      "Epoch [29/50], Step [96/96], Loss: 0.1910\n",
      "Training Accuracy:  0.6413178313523531\n",
      "Epoch [30/50], Step [96/96], Loss: 0.0716\n",
      "Training Accuracy:  0.6434788058201472\n",
      "Epoch [31/50], Step [96/96], Loss: 0.0858\n",
      "Training Accuracy:  0.6439813834925493\n",
      "Epoch [32/50], Step [96/96], Loss: 0.1115\n",
      "Training Accuracy:  0.6441595405340195\n",
      "Epoch [33/50], Step [96/96], Loss: 0.0407\n",
      "Training Accuracy:  0.6450096337745587\n",
      "Epoch [34/50], Step [96/96], Loss: 0.0321\n",
      "Training Accuracy:  0.6465019707878431\n",
      "Epoch [35/50], Step [96/96], Loss: 0.0683\n",
      "Training Accuracy:  0.6467351137350003\n",
      "Epoch [36/50], Step [96/96], Loss: 0.1105\n",
      "Training Accuracy:  0.6460565788050493\n",
      "Epoch [37/50], Step [96/96], Loss: 0.0648\n",
      "Training Accuracy:  0.6468527851005396\n",
      "Epoch [38/50], Step [96/96], Loss: 0.0827\n",
      "Training Accuracy:  0.6481295749545097\n",
      "Epoch [39/50], Step [96/96], Loss: 0.0230\n",
      "Training Accuracy:  0.64850238400201\n",
      "Epoch [40/50], Step [96/96], Loss: 0.0804\n",
      "Training Accuracy:  0.6485837642103434\n",
      "Epoch [41/50], Step [96/96], Loss: 0.0960\n",
      "Training Accuracy:  0.6488026113559803\n",
      "Epoch [42/50], Step [96/96], Loss: 0.0360\n",
      "Training Accuracy:  0.6491380296647549\n",
      "Epoch [43/50], Step [96/96], Loss: 0.0473\n",
      "Training Accuracy:  0.6495900197575489\n",
      "Epoch [44/50], Step [96/96], Loss: 0.0323\n",
      "Training Accuracy:  0.6496560039619604\n",
      "Epoch [45/50], Step [96/96], Loss: 0.0608\n",
      "Training Accuracy:  0.6499936214337746\n",
      "Epoch [46/50], Step [96/96], Loss: 0.0598\n",
      "Training Accuracy:  0.6490786441912254\n",
      "Epoch [47/50], Step [96/96], Loss: 0.0207\n",
      "Training Accuracy:  0.6493865692367157\n",
      "Epoch [48/50], Step [96/96], Loss: 0.0286\n",
      "Training Accuracy:  0.650563282892108\n",
      "Epoch [49/50], Step [96/96], Loss: 0.0504\n",
      "Training Accuracy:  0.6497978692253431\n",
      "Epoch [50/50], Step [96/96], Loss: 0.0532\n",
      "Training Accuracy:  0.6500299125909805\n",
      "Test Accuracy 0.5713343520959219\n",
      "Test Accuracy 0.5710951661070188\n",
      "Test Accuracy 0.5710583676894506\n",
      "Test Accuracy 0.5709663728872935\n",
      "Test Accuracy 0.5710583676894506\n",
      "Test Accuracy 0.5710583676894506\n",
      "Test Accuracy 0.5711503624916077\n",
      "Test Accuracy 0.5709111765027046\n",
      "Test Accuracy 0.5712791557113329\n",
      "Test Accuracy 0.5711503624916077\n",
      "Test Accuracy 0.571131964524587\n",
      "Test Accuracy 0.5710215692718824\n",
      "Test Accuracy 0.5712423572937647\n",
      "Test Accuracy 0.5712791557113329\n",
      "Test Accuracy 0.5709847708543142\n",
      "Test Accuracy 0.5709847708543142\n",
      "Test Accuracy 0.5709847708543142\n",
      "Test Accuracy 0.5710767656564713\n",
      "Test Accuracy 0.5709847708543142\n",
      "Test Accuracy 0.5710951661070188\n",
      "Test Accuracy 0.5712975536783537\n",
      "Test Accuracy 0.5710583676894506\n",
      "Test Accuracy 0.5710951661070188\n",
      "Test Accuracy 0.5713343520959219\n",
      "Test Accuracy 0.5708743780851364\n",
      "Test Accuracy 0.5712791557113329\n",
      "Test Accuracy 0.5711503624916077\n",
      "Test Accuracy 0.5709111765027046\n",
      "Test Accuracy 0.571131964524587\n",
      "Test Accuracy 0.5711135640740395\n",
      "Test Accuracy 0.5710583676894506\n",
      "Test Accuracy 0.571039967238903\n",
      "Test Accuracy 0.5712791557113329\n",
      "Test Accuracy 0.5712239593267441\n",
      "Test Accuracy 0.5712607552607855\n",
      "Test Accuracy 0.5714263468980789\n",
      "Test Accuracy 0.5711503624916077\n",
      "Test Accuracy 0.5709111765027046\n",
      "Test Accuracy 0.5711503624916077\n",
      "Test Accuracy 0.5711503624916077\n",
      "Test Accuracy 0.5711687604586283\n",
      "Test Accuracy 0.5709663728872935\n",
      "Test Accuracy 0.5708559776345888\n",
      "Test Accuracy 0.57080078125\n",
      "Test Accuracy 0.5710031713048617\n",
      "Test Accuracy 0.5712239593267441\n",
      "Test Accuracy 0.5712423572937647\n",
      "Test Accuracy 0.5710583676894506\n",
      "Test Accuracy 0.5711687604586283\n",
      "Test Accuracy 0.5712607552607855\n",
      "/Users/nicolaskim/Desktop/research/singh_lab/basset_basenji/revised_agingeye_classification/1-preprocessing/../2-model/train_test.py:222: UserWarning: constrained_layout not applied because axes sizes collapsed to zero.  Try making figure larger or axes decorations smaller.\n",
      "  plt.savefig(f'../3-viz/loss_curves_{id}')\n",
      "/Users/nicolaskim/Desktop/research/singh_lab/basset_basenji/revised_agingeye_classification/1-preprocessing/../2-model/train_test.py:236: UserWarning: constrained_layout not applied because axes sizes collapsed to zero.  Try making figure larger or axes decorations smaller.\n",
      "  plt.savefig(f'../3-viz/accuracy_curves_{id}')\n"
     ]
    }
   ],
   "source": [
    "!python3 ../2-model/train_test.py -primarymodel 'DeepChrome' -trainfile '../0-data/2-final/1-finalcsv/agingeye/cts_bed_train.csv' -testfile '../0-data/2-final/1-finalcsv/agingeye/cts_bed_test.csv' -seqlen 100 -optim 'Adam' -loss 'BCE'"
   ]
  }
 ],
 "metadata": {
  "kernelspec": {
   "display_name": "dlenv",
   "language": "python",
   "name": "python3"
  },
  "language_info": {
   "codemirror_mode": {
    "name": "ipython",
    "version": 3
   },
   "file_extension": ".py",
   "mimetype": "text/x-python",
   "name": "python",
   "nbconvert_exporter": "python",
   "pygments_lexer": "ipython3",
   "version": "3.10.13"
  }
 },
 "nbformat": 4,
 "nbformat_minor": 2
}
