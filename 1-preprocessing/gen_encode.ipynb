{
 "cells": [
  {
   "cell_type": "markdown",
   "metadata": {},
   "source": [
    "### General\n",
    "##### General Pipeline\n",
    "1) Wget the right gtf and fasta ref genome files for the Drosophila (or whatever organism) genome into appropriate directories\n",
    "\n",
    "2) Then parse GTF file for start/end coordinates for each gene. ATAC-seq data: split this interval into non-overlapping windows of x bp and assign peak counts. RNA-seq data: find TSS of each gene and do +/- specified x bases for each one. Then output BED file(s) delimited by start, stop coords you just made + the label. \n",
    "\n",
    "3) Next, run getfasta on the BED file(s) you just made. This will output a bunch of fasta files with just the gene_ids + actual sequences for each window interval you defined. \n",
    "\n",
    "4) Finally, run a script to concatenate together the outputted fasta files from getfasta and your bed files. The outputted CSV file will have the sequences themselves (rather than just start/stop coords) for each window and their corresponding label.\n"
   ]
  },
  {
   "cell_type": "markdown",
   "metadata": {},
   "source": [
    "### Preprocess RNA-seq data \n",
    "\n",
    "Run scripts to preprocess RNA-seq data (in fasta file format) into BED files with sequences of +/- x bp windows up and downstream of the TSS respectively (2x bp overall). Discretize counts, run getfasta to get corresponding sequences, and then merge into final CSV. "
   ]
  },
  {
   "cell_type": "code",
   "execution_count": null,
   "metadata": {
    "vscode": {
     "languageId": "shellscript"
    }
   },
   "outputs": [],
   "source": [
    "!python3 python/rna_bed.py -gtf_filepath '../0-data/0-refs/agingeye/dmel-all-r6.55.gtf' -counts_filepath '../0-data/1-experimental/counts/agingeye/counts.xlsx' -sequence_length 600"
   ]
  },
  {
   "cell_type": "code",
   "execution_count": 9,
   "metadata": {
    "vscode": {
     "languageId": "shellscript"
    }
   },
   "outputs": [
    {
     "name": "stdout",
     "output_type": "stream",
     "text": [
      "Intel MKL WARNING: Support of Intel(R) Streaming SIMD Extensions 4.2 (Intel(R) SSE4.2) enabled only processors has been deprecated. Intel oneAPI Math Kernel Library 2025.0 will require Intel(R) Advanced Vector Extensions (Intel(R) AVX) instructions.\n",
      "Intel MKL WARNING: Support of Intel(R) Streaming SIMD Extensions 4.2 (Intel(R) SSE4.2) enabled only processors has been deprecated. Intel oneAPI Math Kernel Library 2025.0 will require Intel(R) Advanced Vector Extensions (Intel(R) AVX) instructions.\n",
      "/Users/nicolaskim/anaconda3/envs/dlenv/lib/python3.10/site-packages/pyranges/methods/init.py:45: FutureWarning: The default of observed=False is deprecated and will be changed to True in a future version of pandas. Pass observed=False to retain current behavior or observed=True to adopt the future default and silence this warning.\n",
      "  return {k: v for k, v in df.groupby(grpby_key)}\n"
     ]
    }
   ],
   "source": [
    "!python3 python/rna_bed_default.py -gtf_filepath '../0-data/0-refs/agingeye/dmel-all-r6.55.gtf' -counts_filepath '../0-data/1-experimental/counts/agingeye/cts.txt' -sequence_length 1000"
   ]
  },
  {
   "cell_type": "markdown",
   "metadata": {},
   "source": [
    "This code runs getFasta on the files I just generated into bed format in the appropriate directory, using the appropriate reference genome (r6.55). "
   ]
  },
  {
   "cell_type": "code",
   "execution_count": 10,
   "metadata": {
    "vscode": {
     "languageId": "shellscript"
    }
   },
   "outputs": [
    {
     "name": "stdout",
     "output_type": "stream",
     "text": [
      "Feature (Y:3666428-3667428) beyond the length of Y size (3667352 bp).  Skipping.\n"
     ]
    }
   ],
   "source": [
    "!./bash/rna_getfasta.sh '../0-data/0-refs/agingeye/dmel-all-chromosome-r6.55.fasta'"
   ]
  },
  {
   "cell_type": "markdown",
   "metadata": {},
   "source": [
    "This code converts the outputted fasta files from the getfasta script above into CSV format for processing. Displays first three rows of output file. Some filepaths I used for the bed files are the following: '../0-data/1-experimental/bed/agingeye/cts_bed.bed', '../0-data/1-experimental/bed/agingeye/D60vsD10.bed'. Some filepaths I used for the getfasta output are the following: '../0-data/2-final/0-getfasta/agingeye/cts_bed.out.fa', '../0-data/2-final/0-getfasta/agingeye/D60vsD10.out.fa'"
   ]
  },
  {
   "cell_type": "code",
   "execution_count": 11,
   "metadata": {
    "vscode": {
     "languageId": "shellscript"
    }
   },
   "outputs": [
    {
     "name": "stdout",
     "output_type": "stream",
     "text": [
      "Intel MKL WARNING: Support of Intel(R) Streaming SIMD Extensions 4.2 (Intel(R) SSE4.2) enabled only processors has been deprecated. Intel oneAPI Math Kernel Library 2025.0 will require Intel(R) Advanced Vector Extensions (Intel(R) AVX) instructions.\n",
      "Intel MKL WARNING: Support of Intel(R) Streaming SIMD Extensions 4.2 (Intel(R) SSE4.2) enabled only processors has been deprecated. Intel oneAPI Math Kernel Library 2025.0 will require Intel(R) Advanced Vector Extensions (Intel(R) AVX) instructions.\n",
      "First three rows:                                              sequence  count\n",
      "0  AGTAGCAGAAACGGTTCTGCCCGCTTAACCTCTACAGAGTGTCTAA...      1\n",
      "1  TAACGAATTTGTTGTTGCCTATAACAAATATAGTTAAATAAATGTT...      1\n",
      "2  TGTAACTGTTGACGTATCCGTACTTTACAGTACTTTATCTGTATAC...      1\n",
      "Number of ones in whole dataset 20088\n",
      "umber of zeros in whole dataset 10499\n",
      "Number of ones in train dataset 16115\n",
      "Number of zeros in train dataset 8354\n",
      "Number of ones in test dataset 3973\n",
      "Number of zeros in test dataset 2145\n"
     ]
    }
   ],
   "source": [
    "!python3 python/rna_getfasta.py -input_bed_file '../0-data/1-experimental/bed/agingeye/cts_bed.bed' -input_fasta_file '../0-data/2-final/0-getfasta/agingeye/cts_bed.out.fa' -output_csv_file '../0-data/2-final/1-finalcsv/agingeye/' -output_csv_file_identifier 'cts_bed'"
   ]
  },
  {
   "cell_type": "markdown",
   "metadata": {},
   "source": [
    "### Preprocess ATAC-seq data\n",
    "Run scripts to preprocess ATAC-seq data into non-overlapping windows of 600 bp each. Run bedtools getfasta to get the actual corresponding sequence for each window, using the proper reference genome. Note that the testing directory used DNAase-seq data, not ATAC-seq data, and used the hg19 grch37 reference genome (DNA) instead of what was needed for this project specifically. "
   ]
  },
  {
   "cell_type": "code",
   "execution_count": null,
   "metadata": {
    "vscode": {
     "languageId": "shellscript"
    }
   },
   "outputs": [],
   "source": [
    "\n",
    "!python3 python/atac_bed.py -input_bed_directory '../0-data/1-experimental/bed/encode/raw/' -output_bed_directory '../0-data/1-experimental/bed/encode/binned/' -max_overlap 200 -sequence_length 600"
   ]
  },
  {
   "cell_type": "markdown",
   "metadata": {},
   "source": [
    "Outputted files will be not in fasta format, but instead in tab delimited format since I wanted an easier way of labeling the sequences with appropriate counts."
   ]
  },
  {
   "cell_type": "code",
   "execution_count": 23,
   "metadata": {
    "vscode": {
     "languageId": "shellscript"
    }
   },
   "outputs": [],
   "source": [
    "!./bash/atac_getfasta.sh '../0-data/0-refs/encode/hg19.fa'"
   ]
  },
  {
   "cell_type": "markdown",
   "metadata": {},
   "source": [
    "Now process the outputted fasta file into CSV file format"
   ]
  },
  {
   "cell_type": "code",
   "execution_count": null,
   "metadata": {
    "vscode": {
     "languageId": "shellscript"
    }
   },
   "outputs": [],
   "source": [
    "!python3 python/atac_getfasta.py -input_bed_file '../0-data/1-experimental/bed/encode/binned/E003.bed' -input_fasta_file '../0-data/2-final/0-getfasta/encode/E003.out.fa' -output_csv_file '../0-data/2-final/1-finalcsv/E003'"
   ]
  },
  {
   "cell_type": "markdown",
   "metadata": {},
   "source": [
    "## Run Model \n",
    "\n",
    "Now load in the appropriate CSV data and run the model proper. The below are some of the relative filepaths to be used for training data. \n",
    "\n",
    "#### (D60 vs. D10)\n",
    "- '../0-data/2-final/1-finalcsv/agingeye/D60vsD10_train.csv'\n",
    "- '../0-data/2-final/1-finalcsv/agingeye/D60vsD10_test.csv'\n",
    "\n",
    "#### (Toy paths)\n",
    "- '../0-data/2-final/1-finalcsv/toy/toy_600bp_seq_1000_sample.csv' (log normalized counts, discretized based on LFC values)\n",
    "- '../0-data/2-final/1-finalcsv/toy/toy_100bp_seq_1000_sample.csv' (raw counts, binarized based on median exp value)\n",
    "\n",
    "\n",
    "#### (Median)\n",
    "- '../0-data/2-final/1-finalcsv/agingeye/cts_bed_train.csv'\n",
    "- '../0-data/2-final/1-finalcsv/agingeye/cts_bed_test.csv'"
   ]
  },
  {
   "cell_type": "code",
   "execution_count": 71,
   "metadata": {
    "vscode": {
     "languageId": "shellscript"
    }
   },
   "outputs": [
    {
     "name": "stdout",
     "output_type": "stream",
     "text": [
      "Intel MKL WARNING: Support of Intel(R) Streaming SIMD Extensions 4.2 (Intel(R) SSE4.2) enabled only processors has been deprecated. Intel oneAPI Math Kernel Library 2025.0 will require Intel(R) Advanced Vector Extensions (Intel(R) AVX) instructions.\n",
      "Intel MKL WARNING: Support of Intel(R) Streaming SIMD Extensions 4.2 (Intel(R) SSE4.2) enabled only processors has been deprecated. Intel oneAPI Math Kernel Library 2025.0 will require Intel(R) Advanced Vector Extensions (Intel(R) AVX) instructions.\n",
      "===============================================================================\n",
      "This is the shape of the training data:  (24468, 2)\n",
      "This is the shape of the test data:  (6118, 2)\n",
      "0. Using mps device!\n",
      "===============================================================================\n",
      "Epoch [1/50], Step [245/245], Loss: 0.5727\n",
      "Training Accuracy:  0.653390157009874\n",
      "Epoch [2/50], Step [245/245], Loss: 0.6499\n",
      "Training Accuracy:  0.6584633853970742\n",
      "Epoch [3/50], Step [245/245], Loss: 0.5402\n",
      "Training Accuracy:  0.616273709949182\n",
      "Epoch [4/50], Step [245/245], Loss: 0.5373\n",
      "Training Accuracy:  0.5860504195398214\n",
      "Epoch [5/50], Step [245/245], Loss: 0.5220\n",
      "Training Accuracy:  0.5782112835621347\n",
      "Epoch [6/50], Step [245/245], Loss: 0.4305\n",
      "Training Accuracy:  0.5781152433278609\n",
      "Epoch [7/50], Step [245/245], Loss: 0.5318\n",
      "Training Accuracy:  0.5800552210029291\n",
      "Epoch [8/50], Step [245/245], Loss: 0.4717\n",
      "Training Accuracy:  0.5812100817962569\n",
      "Epoch [9/50], Step [245/245], Loss: 0.5032\n",
      "Training Accuracy:  0.5843601443329636\n",
      "Epoch [10/50], Step [245/245], Loss: 0.3425\n",
      "Training Accuracy:  0.5885042003222875\n",
      "Epoch [11/50], Step [245/245], Loss: 0.4706\n",
      "Training Accuracy:  0.5891212484058068\n",
      "^C\n",
      "Traceback (most recent call last):\n",
      "  File \"/Users/nicolaskim/Desktop/research/singh_lab/basset_basenji/revised_agingeye_classification/1-preprocessing/../2-model/basset.py\", line 388, in <module>\n",
      "    train_log = train_model()\n",
      "  File \"/Users/nicolaskim/Desktop/research/singh_lab/basset_basenji/revised_agingeye_classification/1-preprocessing/../2-model/basset.py\", line 326, in train_model\n",
      "    loss.backward() \n",
      "  File \"/Users/nicolaskim/anaconda3/envs/dlenv/lib/python3.10/site-packages/torch/_tensor.py\", line 522, in backward\n",
      "    torch.autograd.backward(\n",
      "  File \"/Users/nicolaskim/anaconda3/envs/dlenv/lib/python3.10/site-packages/torch/autograd/__init__.py\", line 267, in backward\n",
      "    _engine_run_backward(\n",
      "  File \"/Users/nicolaskim/anaconda3/envs/dlenv/lib/python3.10/site-packages/torch/autograd/graph.py\", line 690, in _engine_run_backward\n",
      "    return Variable._execution_engine.run_backward(  # Calls into the C++ engine to run the backward pass\n",
      "KeyboardInterrupt\n"
     ]
    }
   ],
   "source": [
    "!python3 ../2-model/basset.py -trainfile '../0-data/2-final/1-finalcsv/agingeye/cts_bed_train.csv' -testfile '../0-data/2-final/1-finalcsv/agingeye/cts_bed_test.csv' -primarymodel 'testing' "
   ]
  }
 ],
 "metadata": {
  "kernelspec": {
   "display_name": "dlenv",
   "language": "python",
   "name": "python3"
  },
  "language_info": {
   "codemirror_mode": {
    "name": "ipython",
    "version": 3
   },
   "file_extension": ".py",
   "mimetype": "text/x-python",
   "name": "python",
   "nbconvert_exporter": "python",
   "pygments_lexer": "ipython3",
   "version": "3.10.13"
  }
 },
 "nbformat": 4,
 "nbformat_minor": 2
}
