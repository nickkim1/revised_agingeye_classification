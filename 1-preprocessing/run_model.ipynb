{
 "cells": [
  {
   "cell_type": "markdown",
   "metadata": {},
   "source": [
    "## Run Model \n",
    "\n",
    "Set the configs, and then run the configuration script to set the appropiate variables (first code block). Subsequently load in the appropriate CSV data and run the model proper (second code block). The below are some of the relative filepaths to be used for training data. \n",
    "\n",
    "#### (D60 vs. D10)\n",
    "- '../0-data/2-final/1-finalcsv/agingeye/D60vsD10_train.csv'\n",
    "- '../0-data/2-final/1-finalcsv/agingeye/D60vsD10_test.csv'\n",
    "\n",
    "#### (Toy paths)\n",
    "- '../0-data/2-final/1-finalcsv/toy/toy_600bp_seq_1000_sample.csv' (log normalized counts, discretized based on LFC values)\n",
    "- '../0-data/2-final/1-finalcsv/toy/toy_100bp_seq_1000_sample.csv' (raw counts, binarized based on median exp value)\n",
    "\n",
    "\n",
    "#### (Median)\n",
    "- '../0-data/2-final/1-finalcsv/agingeye/cts_bed_train.csv'\n",
    "- '../0-data/2-final/1-finalcsv/agingeye/cts_bed_test.csv'"
   ]
  },
  {
   "cell_type": "code",
   "execution_count": 1,
   "metadata": {
    "vscode": {
     "languageId": "shellscript"
    }
   },
   "outputs": [
    {
     "name": "stdout",
     "output_type": "stream",
     "text": [
      "Intel MKL WARNING: Support of Intel(R) Streaming SIMD Extensions 4.2 (Intel(R) SSE4.2) enabled only processors has been deprecated. Intel oneAPI Math Kernel Library 2025.0 will require Intel(R) Advanced Vector Extensions (Intel(R) AVX) instructions.\n",
      "Intel MKL WARNING: Support of Intel(R) Streaming SIMD Extensions 4.2 (Intel(R) SSE4.2) enabled only processors has been deprecated. Intel oneAPI Math Kernel Library 2025.0 will require Intel(R) Advanced Vector Extensions (Intel(R) AVX) instructions.\n",
      "^C\n"
     ]
    }
   ],
   "source": [
    "!python3 ../2-model/config.py"
   ]
  },
  {
   "cell_type": "code",
   "execution_count": null,
   "metadata": {
    "vscode": {
     "languageId": "shellscript"
    }
   },
   "outputs": [],
   "source": [
    "!python3 ../2-model/train_test_classification.py -primarymodel 'Basset' -trainfile '../0-data/2-final/1-finalcsv/agingeye/cts_bed_train.csv' -testfile '../0-data/2-final/1-finalcsv/agingeye/cts_bed_test.csv' -seqlen 600 -optim 'Adam' -loss 'BCE' -batchsize 128"
   ]
  }
 ],
 "metadata": {
  "kernelspec": {
   "display_name": "Python 3",
   "language": "python",
   "name": "python3"
  },
  "language_info": {
   "codemirror_mode": {
    "name": "ipython",
    "version": 3
   },
   "file_extension": ".py",
   "mimetype": "text/x-python",
   "name": "python",
   "nbconvert_exporter": "python",
   "pygments_lexer": "ipython3",
   "version": "3.10.13"
  }
 },
 "nbformat": 4,
 "nbformat_minor": 2
}
